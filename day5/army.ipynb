{
 "cells": [
  {
   "cell_type": "markdown",
   "metadata": {},
   "source": [
    "# Fictional Army - Filtering and Sorting"
   ]
  },
  {
   "cell_type": "markdown",
   "metadata": {},
   "source": [
    "### Introduction:\n",
    "\n",
    "This exercise was inspired by this [page](http://chrisalbon.com/python/)\n",
    "\n",
    "Special thanks to: https://github.com/chrisalbon for sharing the dataset and materials.\n",
    "\n",
    "### Step 1. Import the necessary libraries"
   ]
  },
  {
   "cell_type": "code",
   "execution_count": 1,
   "metadata": {
    "collapsed": false
   },
   "outputs": [],
   "source": [
    "import pandas as pd"
   ]
  },
  {
   "cell_type": "markdown",
   "metadata": {},
   "source": [
    "### Step 2. This is the data given as a dictionary"
   ]
  },
  {
   "cell_type": "code",
   "execution_count": 2,
   "metadata": {
    "collapsed": true
   },
   "outputs": [],
   "source": [
    "# Create an example dataframe about a fictional army\n",
    "raw_data = {'regiment': ['Nighthawks', 'Nighthawks', 'Nighthawks', 'Nighthawks', 'Dragoons', 'Dragoons', 'Dragoons', 'Dragoons', 'Scouts', 'Scouts', 'Scouts', 'Scouts'],\n",
    "            'company': ['1st', '1st', '2nd', '2nd', '1st', '1st', '2nd', '2nd','1st', '1st', '2nd', '2nd'],\n",
    "            'deaths': [523, 52, 25, 616, 43, 234, 523, 62, 62, 73, 37, 35],\n",
    "            'battles': [5, 42, 2, 2, 4, 7, 8, 3, 4, 7, 8, 9],\n",
    "            'size': [1045, 957, 1099, 1400, 1592, 1006, 987, 849, 973, 1005, 1099, 1523],\n",
    "            'veterans': [1, 5, 62, 26, 73, 37, 949, 48, 48, 435, 63, 345],\n",
    "            'readiness': [1, 2, 3, 3, 2, 1, 2, 3, 2, 1, 2, 3],\n",
    "            'armored': [1, 0, 1, 1, 0, 1, 0, 1, 0, 0, 1, 1],\n",
    "            'deserters': [4, 24, 31, 2, 3, 4, 24, 31, 2, 3, 2, 3],\n",
    "            'origin': ['Arizona', 'California', 'Texas', 'Florida', 'Maine', 'Iowa', 'Alaska', 'Washington', 'Oregon', 'Wyoming', 'Louisana', 'Georgia']}"
   ]
  },
  {
   "cell_type": "markdown",
   "metadata": {},
   "source": [
    "### Step 3. Create a dataframe and assign it to a variable called army. \n",
    "\n",
    "#### Don't forget to include the columns names"
   ]
  },
  {
   "cell_type": "code",
   "execution_count": 11,
   "metadata": {
    "collapsed": false
   },
   "outputs": [
    {
     "name": "stdout",
     "output_type": "stream",
     "text": [
      "      regiment company  deaths  battles  size  veterans  readiness  armored  \\\n",
      "0   Nighthawks     1st     523        5  1045         1          1        1   \n",
      "1   Nighthawks     1st      52       42   957         5          2        0   \n",
      "2   Nighthawks     2nd      25        2  1099        62          3        1   \n",
      "3   Nighthawks     2nd     616        2  1400        26          3        1   \n",
      "4     Dragoons     1st      43        4  1592        73          2        0   \n",
      "5     Dragoons     1st     234        7  1006        37          1        1   \n",
      "6     Dragoons     2nd     523        8   987       949          2        0   \n",
      "7     Dragoons     2nd      62        3   849        48          3        1   \n",
      "8       Scouts     1st      62        4   973        48          2        0   \n",
      "9       Scouts     1st      73        7  1005       435          1        0   \n",
      "10      Scouts     2nd      37        8  1099        63          2        1   \n",
      "11      Scouts     2nd      35        9  1523       345          3        1   \n",
      "\n",
      "    deserters      origin  \n",
      "0           4     Arizona  \n",
      "1          24  California  \n",
      "2          31       Texas  \n",
      "3           2     Florida  \n",
      "4           3       Maine  \n",
      "5           4        Iowa  \n",
      "6          24      Alaska  \n",
      "7          31  Washington  \n",
      "8           2      Oregon  \n",
      "9           3     Wyoming  \n",
      "10          2    Louisana  \n",
      "11          3     Georgia  \n"
     ]
    }
   ],
   "source": [
    "army = pd.DataFrame(raw_data)\n",
    "print(army)"
   ]
  },
  {
   "cell_type": "markdown",
   "metadata": {},
   "source": [
    "### Step 4. Set the 'origin' colum as the index of the dataframe"
   ]
  },
  {
   "cell_type": "code",
   "execution_count": 13,
   "metadata": {
    "collapsed": false
   },
   "outputs": [
    {
     "name": "stdout",
     "output_type": "stream",
     "text": [
      "              regiment company  deaths  battles  size  veterans  readiness  \\\n",
      "origin                                                                       \n",
      "Arizona     Nighthawks     1st     523        5  1045         1          1   \n",
      "California  Nighthawks     1st      52       42   957         5          2   \n",
      "Texas       Nighthawks     2nd      25        2  1099        62          3   \n",
      "Florida     Nighthawks     2nd     616        2  1400        26          3   \n",
      "Maine         Dragoons     1st      43        4  1592        73          2   \n",
      "Iowa          Dragoons     1st     234        7  1006        37          1   \n",
      "Alaska        Dragoons     2nd     523        8   987       949          2   \n",
      "Washington    Dragoons     2nd      62        3   849        48          3   \n",
      "Oregon          Scouts     1st      62        4   973        48          2   \n",
      "Wyoming         Scouts     1st      73        7  1005       435          1   \n",
      "Louisana        Scouts     2nd      37        8  1099        63          2   \n",
      "Georgia         Scouts     2nd      35        9  1523       345          3   \n",
      "\n",
      "            armored  deserters  \n",
      "origin                          \n",
      "Arizona           1          4  \n",
      "California        0         24  \n",
      "Texas             1         31  \n",
      "Florida           1          2  \n",
      "Maine             0          3  \n",
      "Iowa              1          4  \n",
      "Alaska            0         24  \n",
      "Washington        1         31  \n",
      "Oregon            0          2  \n",
      "Wyoming           0          3  \n",
      "Louisana          1          2  \n",
      "Georgia           1          3  \n"
     ]
    }
   ],
   "source": [
    "army.set_index('origin', inplace=True)\n",
    "print(army)"
   ]
  },
  {
   "cell_type": "markdown",
   "metadata": {},
   "source": [
    "### Step 5. Print only the column veterans"
   ]
  },
  {
   "cell_type": "code",
   "execution_count": 14,
   "metadata": {
    "collapsed": false
   },
   "outputs": [
    {
     "name": "stdout",
     "output_type": "stream",
     "text": [
      "origin\n",
      "Arizona         1\n",
      "California      5\n",
      "Texas          62\n",
      "Florida        26\n",
      "Maine          73\n",
      "Iowa           37\n",
      "Alaska        949\n",
      "Washington     48\n",
      "Oregon         48\n",
      "Wyoming       435\n",
      "Louisana       63\n",
      "Georgia       345\n",
      "Name: veterans, dtype: int64\n"
     ]
    }
   ],
   "source": [
    "print(army['veterans'])"
   ]
  },
  {
   "cell_type": "markdown",
   "metadata": {},
   "source": [
    "### Step 6. Print the columns 'veterans' and 'deaths'"
   ]
  },
  {
   "cell_type": "code",
   "execution_count": 17,
   "metadata": {
    "collapsed": false
   },
   "outputs": [
    {
     "name": "stdout",
     "output_type": "stream",
     "text": [
      "            veterans  deaths\n",
      "origin                      \n",
      "Arizona            1     523\n",
      "California         5      52\n",
      "Texas             62      25\n",
      "Florida           26     616\n",
      "Maine             73      43\n",
      "Iowa              37     234\n",
      "Alaska           949     523\n",
      "Washington        48      62\n",
      "Oregon            48      62\n",
      "Wyoming          435      73\n",
      "Louisana          63      37\n",
      "Georgia          345      35\n"
     ]
    }
   ],
   "source": [
    "print(army[['veterans', 'deaths']])"
   ]
  },
  {
   "cell_type": "markdown",
   "metadata": {},
   "source": [
    "### Step 7. Print the name of all the columns."
   ]
  },
  {
   "cell_type": "code",
   "execution_count": 18,
   "metadata": {
    "collapsed": false
   },
   "outputs": [
    {
     "name": "stdout",
     "output_type": "stream",
     "text": [
      "Index(['regiment', 'company', 'deaths', 'battles', 'size', 'veterans',\n",
      "       'readiness', 'armored', 'deserters'],\n",
      "      dtype='object')\n"
     ]
    }
   ],
   "source": [
    "print(army.columns)"
   ]
  },
  {
   "cell_type": "markdown",
   "metadata": {},
   "source": [
    "### Step 8. Select the 'deaths', 'size' and 'deserters' columns from Maine and Alaska"
   ]
  },
  {
   "cell_type": "code",
   "execution_count": 21,
   "metadata": {
    "collapsed": false
   },
   "outputs": [
    {
     "name": "stdout",
     "output_type": "stream",
     "text": [
      "        deaths  size  deserters\n",
      "origin                         \n",
      "Maine       43  1592          3\n",
      "Alaska     523   987         24\n"
     ]
    }
   ],
   "source": [
    "selection = army.loc[['Maine', 'Alaska'], ['deaths', 'size', 'deserters']]\n",
    "print(selection)"
   ]
  },
  {
   "cell_type": "markdown",
   "metadata": {},
   "source": [
    "### Step 9. Select the rows 3 to 7 and the columns 3 to 6"
   ]
  },
  {
   "cell_type": "code",
   "execution_count": 22,
   "metadata": {
    "collapsed": false
   },
   "outputs": [
    {
     "name": "stdout",
     "output_type": "stream",
     "text": [
      "         battles  size  veterans\n",
      "origin                          \n",
      "Florida        2  1400        26\n",
      "Maine          4  1592        73\n",
      "Iowa           7  1006        37\n",
      "Alaska         8   987       949\n"
     ]
    }
   ],
   "source": [
    "selection_2 = army.iloc[3:7, 3:6]\n",
    "print(selection_2)"
   ]
  },
  {
   "cell_type": "markdown",
   "metadata": {},
   "source": [
    "### Step 10. Select every row after the fourth row"
   ]
  },
  {
   "cell_type": "code",
   "execution_count": 24,
   "metadata": {
    "collapsed": false
   },
   "outputs": [
    {
     "name": "stdout",
     "output_type": "stream",
     "text": [
      "            regiment company  deaths  battles  size  veterans  readiness  \\\n",
      "origin                                                                     \n",
      "Maine       Dragoons     1st      43        4  1592        73          2   \n",
      "Iowa        Dragoons     1st     234        7  1006        37          1   \n",
      "Alaska      Dragoons     2nd     523        8   987       949          2   \n",
      "Washington  Dragoons     2nd      62        3   849        48          3   \n",
      "Oregon        Scouts     1st      62        4   973        48          2   \n",
      "Wyoming       Scouts     1st      73        7  1005       435          1   \n",
      "Louisana      Scouts     2nd      37        8  1099        63          2   \n",
      "Georgia       Scouts     2nd      35        9  1523       345          3   \n",
      "\n",
      "            armored  deserters  \n",
      "origin                          \n",
      "Maine             0          3  \n",
      "Iowa              1          4  \n",
      "Alaska            0         24  \n",
      "Washington        1         31  \n",
      "Oregon            0          2  \n",
      "Wyoming           0          3  \n",
      "Louisana          1          2  \n",
      "Georgia           1          3  \n"
     ]
    }
   ],
   "source": [
    "selection_3 = army.iloc[4:, :]\n",
    "print(selection_3)"
   ]
  },
  {
   "cell_type": "markdown",
   "metadata": {},
   "source": [
    "### Step 11. Select every row up to the 4th row"
   ]
  },
  {
   "cell_type": "code",
   "execution_count": 26,
   "metadata": {
    "collapsed": false
   },
   "outputs": [
    {
     "name": "stdout",
     "output_type": "stream",
     "text": [
      "              regiment company  deaths  battles  size  veterans  readiness  \\\n",
      "origin                                                                       \n",
      "Arizona     Nighthawks     1st     523        5  1045         1          1   \n",
      "California  Nighthawks     1st      52       42   957         5          2   \n",
      "Texas       Nighthawks     2nd      25        2  1099        62          3   \n",
      "Florida     Nighthawks     2nd     616        2  1400        26          3   \n",
      "\n",
      "            armored  deserters  \n",
      "origin                          \n",
      "Arizona           1          4  \n",
      "California        0         24  \n",
      "Texas             1         31  \n",
      "Florida           1          2  \n"
     ]
    }
   ],
   "source": [
    "selection_4 = army.iloc[:4, :]\n",
    "print(selection_4)"
   ]
  },
  {
   "cell_type": "markdown",
   "metadata": {},
   "source": [
    "### Step 12. Select the 3rd column up to the 7th column"
   ]
  },
  {
   "cell_type": "code",
   "execution_count": 27,
   "metadata": {
    "collapsed": false
   },
   "outputs": [
    {
     "name": "stdout",
     "output_type": "stream",
     "text": [
      "            battles  size  veterans  readiness\n",
      "origin                                        \n",
      "Arizona           5  1045         1          1\n",
      "California       42   957         5          2\n",
      "Texas             2  1099        62          3\n",
      "Florida           2  1400        26          3\n",
      "Maine             4  1592        73          2\n",
      "Iowa              7  1006        37          1\n",
      "Alaska            8   987       949          2\n",
      "Washington        3   849        48          3\n",
      "Oregon            4   973        48          2\n",
      "Wyoming           7  1005       435          1\n",
      "Louisana          8  1099        63          2\n",
      "Georgia           9  1523       345          3\n"
     ]
    }
   ],
   "source": [
    "selection_5 = army.iloc[:, 3:7]\n",
    "print(selection_5)"
   ]
  },
  {
   "cell_type": "markdown",
   "metadata": {},
   "source": [
    "### Step 13. Select rows where df.deaths is greater than 50"
   ]
  },
  {
   "cell_type": "code",
   "execution_count": 28,
   "metadata": {
    "collapsed": false
   },
   "outputs": [
    {
     "name": "stdout",
     "output_type": "stream",
     "text": [
      "              regiment company  deaths  battles  size  veterans  readiness  \\\n",
      "origin                                                                       \n",
      "Arizona     Nighthawks     1st     523        5  1045         1          1   \n",
      "California  Nighthawks     1st      52       42   957         5          2   \n",
      "Florida     Nighthawks     2nd     616        2  1400        26          3   \n",
      "Iowa          Dragoons     1st     234        7  1006        37          1   \n",
      "Alaska        Dragoons     2nd     523        8   987       949          2   \n",
      "Washington    Dragoons     2nd      62        3   849        48          3   \n",
      "Oregon          Scouts     1st      62        4   973        48          2   \n",
      "Wyoming         Scouts     1st      73        7  1005       435          1   \n",
      "\n",
      "            armored  deserters  \n",
      "origin                          \n",
      "Arizona           1          4  \n",
      "California        0         24  \n",
      "Florida           1          2  \n",
      "Iowa              1          4  \n",
      "Alaska            0         24  \n",
      "Washington        1         31  \n",
      "Oregon            0          2  \n",
      "Wyoming           0          3  \n"
     ]
    }
   ],
   "source": [
    "selection_6 = army[army['deaths'] > 50]\n",
    "print(selection_6)"
   ]
  },
  {
   "cell_type": "markdown",
   "metadata": {},
   "source": [
    "### Step 14. Select rows where df.deaths is greater than 500 or less than 50"
   ]
  },
  {
   "cell_type": "code",
   "execution_count": 29,
   "metadata": {
    "collapsed": false
   },
   "outputs": [
    {
     "name": "stdout",
     "output_type": "stream",
     "text": [
      "            regiment company  deaths  battles  size  veterans  readiness  \\\n",
      "origin                                                                     \n",
      "Arizona   Nighthawks     1st     523        5  1045         1          1   \n",
      "Texas     Nighthawks     2nd      25        2  1099        62          3   \n",
      "Florida   Nighthawks     2nd     616        2  1400        26          3   \n",
      "Maine       Dragoons     1st      43        4  1592        73          2   \n",
      "Alaska      Dragoons     2nd     523        8   987       949          2   \n",
      "Louisana      Scouts     2nd      37        8  1099        63          2   \n",
      "Georgia       Scouts     2nd      35        9  1523       345          3   \n",
      "\n",
      "          armored  deserters  \n",
      "origin                        \n",
      "Arizona         1          4  \n",
      "Texas           1         31  \n",
      "Florida         1          2  \n",
      "Maine           0          3  \n",
      "Alaska          0         24  \n",
      "Louisana        1          2  \n",
      "Georgia         1          3  \n"
     ]
    }
   ],
   "source": [
    "selection_7 = army[(army['deaths'] > 500) | (army['deaths'] < 50)]\n",
    "print(selection_7)"
   ]
  },
  {
   "cell_type": "markdown",
   "metadata": {},
   "source": [
    "### Step 15. Select all the regiments not named \"Dragoons\""
   ]
  },
  {
   "cell_type": "code",
   "execution_count": 30,
   "metadata": {
    "collapsed": false
   },
   "outputs": [
    {
     "name": "stdout",
     "output_type": "stream",
     "text": [
      "              regiment company  deaths  battles  size  veterans  readiness  \\\n",
      "origin                                                                       \n",
      "Arizona     Nighthawks     1st     523        5  1045         1          1   \n",
      "California  Nighthawks     1st      52       42   957         5          2   \n",
      "Texas       Nighthawks     2nd      25        2  1099        62          3   \n",
      "Florida     Nighthawks     2nd     616        2  1400        26          3   \n",
      "Oregon          Scouts     1st      62        4   973        48          2   \n",
      "Wyoming         Scouts     1st      73        7  1005       435          1   \n",
      "Louisana        Scouts     2nd      37        8  1099        63          2   \n",
      "Georgia         Scouts     2nd      35        9  1523       345          3   \n",
      "\n",
      "            armored  deserters  \n",
      "origin                          \n",
      "Arizona           1          4  \n",
      "California        0         24  \n",
      "Texas             1         31  \n",
      "Florida           1          2  \n",
      "Oregon            0          2  \n",
      "Wyoming           0          3  \n",
      "Louisana          1          2  \n",
      "Georgia           1          3  \n"
     ]
    }
   ],
   "source": [
    "selection_8 = army[army['regiment'] != 'Dragoons']\n",
    "print(selection_8)"
   ]
  },
  {
   "cell_type": "markdown",
   "metadata": {},
   "source": [
    "### Step 16. Select the rows called Texas and Arizona"
   ]
  },
  {
   "cell_type": "code",
   "execution_count": 32,
   "metadata": {
    "collapsed": false
   },
   "outputs": [
    {
     "name": "stdout",
     "output_type": "stream",
     "text": [
      "           regiment company  deaths  battles  size  veterans  readiness  \\\n",
      "origin                                                                    \n",
      "Texas    Nighthawks     2nd      25        2  1099        62          3   \n",
      "Arizona  Nighthawks     1st     523        5  1045         1          1   \n",
      "\n",
      "         armored  deserters  \n",
      "origin                       \n",
      "Texas          1         31  \n",
      "Arizona        1          4  \n"
     ]
    }
   ],
   "source": [
    "selection_9 = army.loc()[['Texas', 'Arizona']]\n",
    "print(selection_9)"
   ]
  },
  {
   "cell_type": "markdown",
   "metadata": {},
   "source": [
    "### Step 17. Select the third cell in the row named Arizona"
   ]
  },
  {
   "cell_type": "code",
   "execution_count": 40,
   "metadata": {
    "collapsed": false
   },
   "outputs": [
    {
     "name": "stdout",
     "output_type": "stream",
     "text": [
      "523\n"
     ]
    }
   ],
   "source": [
    "selection_10 = army.loc['Arizona'].iloc[3-1]\n",
    "print(selection_10)"
   ]
  },
  {
   "cell_type": "markdown",
   "metadata": {},
   "source": [
    "### Step 18. Select the third cell down in the column named deaths"
   ]
  },
  {
   "cell_type": "code",
   "execution_count": 44,
   "metadata": {
    "collapsed": false
   },
   "outputs": [
    {
     "name": "stdout",
     "output_type": "stream",
     "text": [
      "25\n"
     ]
    }
   ],
   "source": [
    "selection_11 = army['deaths'].iloc[3-1]\n",
    "print(selection_11)"
   ]
  },
  {
   "cell_type": "code",
   "execution_count": null,
   "metadata": {},
   "outputs": [],
   "source": []
  }
 ],
 "metadata": {
  "kernelspec": {
   "display_name": "root-env",
   "language": "python",
   "name": "python3"
  },
  "language_info": {
   "codemirror_mode": {
    "name": "ipython",
    "version": 3
   },
   "file_extension": ".py",
   "mimetype": "text/x-python",
   "name": "python",
   "nbconvert_exporter": "python",
   "pygments_lexer": "ipython3",
   "version": "3.12.9"
  }
 },
 "nbformat": 4,
 "nbformat_minor": 0
}
